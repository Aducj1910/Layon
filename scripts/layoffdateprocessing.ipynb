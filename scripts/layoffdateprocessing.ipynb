{
  "nbformat": 4,
  "nbformat_minor": 0,
  "metadata": {
    "colab": {
      "provenance": []
    },
    "kernelspec": {
      "name": "python3",
      "display_name": "Python 3"
    },
    "language_info": {
      "name": "python"
    }
  },
  "cells": [
    {
      "cell_type": "code",
      "execution_count": 21,
      "metadata": {
        "id": "kKiuGvZ5WZrT"
      },
      "outputs": [],
      "source": [
        "import pandas as pd\n",
        "import datetime\n",
        "\n",
        "\n",
        "layoff = pd.read_csv(\"layoff.csv\")\n",
        "\n",
        "layoff['date'] = pd.to_datetime(layoff['date'])\n",
        "\n",
        "layoff['month'] = layoff['date'].dt.month_name()\n",
        "layoff['year'] = layoff['date'].dt.year\n",
        "\n",
        "layoff.to_csv('layofffinal.csv')"
      ]
    }
  ]
}